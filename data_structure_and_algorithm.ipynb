{
 "cells": [
  {
   "cell_type": "markdown",
   "id": "f99993ad",
   "metadata": {},
   "source": [
    "### Student Sorting Algorithms Project\n",
    "\n",
    "**Name**: Dawit Alemu <br>\n",
    "**ID**: 1601848 :<br>\n",
    "**Department**: Computer Science <br> \n",
    "**GitHub**:https://github.com/deve8533/Data_structure_and_algorithm.git\n",
    "\n",
    "**Date**: 2025-04-17 \n",
    "\n",
    "\n",
    "\n",
    "\n",
    "\n",
    "This notebook contains:\n",
    "- Objective\n",
    "- Creation of a list of student profiles\n",
    "- Bubble sort by ID\n",
    "- Insertion sort by Name\n",
    "- Selection sort by CGPA (Descending)\n",
    "- Performance comparison\n",
    "- Analysis of sorting algorithms with dictionary data\n"
   ]
  },
  {
   "cell_type": "markdown",
   "id": "8ec253c2",
   "metadata": {},
   "source": [
    "### **Objective:**\n",
    "The main objective of this project is to implement and compare three different sorting algorithms (Bubble Sort, Insertion Sort, and Selection Sort) for sorting a list of student profiles represented as dictionaries. The sorting will be based on different attributes (ID, Name, and CGPA) of the students. This project aims to:\n",
    "\n",
    "1. Understand the implementation of the Bubble Sort, Insertion Sort, and Selection Sort algorithms.\n",
    "\n",
    "2. Sort a list of student profiles by different attributes using these algorithms.\n",
    "\n",
    "3. Analyze and compare the time and space complexities of each sorting algorithm.\n",
    "\n",
    "4. Discuss the advantages and disadvantages of each sorting algorithm when applied to dictionary data.\n",
    "\n",
    "5. Showcase the understanding of sorting techniques in Python and the impact of these algorithms on performance based on the size of the data."
   ]
  },
  {
   "cell_type": "markdown",
   "id": "118ea4a9",
   "metadata": {},
   "source": [
    "### **List of student profile**"
   ]
  },
  {
   "cell_type": "code",
   "execution_count": 1,
   "id": "99bb0237",
   "metadata": {},
   "outputs": [
    {
     "data": {
      "text/plain": [
       "[{'id': 'DBU1601848', 'name': 'dawit', 'dept': 'cs', 'cgpa': 3.75},\n",
       " {'id': 'DBU1601628', 'name': 'solomon', 'dept': 'CS', 'cgpa': 3.12},\n",
       " {'id': 'DBU1602016', 'name': 'adis', 'dept': 'cs', 'cgpa': 3.61},\n",
       " {'id': 'DBU1601888', 'name': 'abush', 'dept': 'CS', 'cgpa': 3.5},\n",
       " {'id': 'DBU1601629', 'name': 'Nahom', 'dept': 'cs', 'cgpa': 3.0},\n",
       " {'id': 'DBU1601721', 'name': 'yordanos', 'dept': 'cs', 'cgpa': 3.7},\n",
       " {'id': 'DBU1601534', 'name': 'Kalkidan', 'dept': 'CS', 'cgpa': 3.88},\n",
       " {'id': 'DBU1601614', 'name': 'tsega', 'dept': 'cs', 'cgpa': 3.26},\n",
       " {'id': 'DBU1601744', 'name': 'biruk', 'dept': 'cs', 'cgpa': 3.75},\n",
       " {'id': 'DBU1601745', 'name': 'Eden', 'dept': 'cs', 'cgpa': 3.44}]"
      ]
     },
     "execution_count": 1,
     "metadata": {},
     "output_type": "execute_result"
    }
   ],
   "source": [
    "students = [\n",
    "    {'id': 'DBU1601848', 'name':   'dawit', 'dept': 'cs', 'cgpa': 3.75},\n",
    "    {'id': 'DBU1601628', 'name': 'solomon', 'dept': 'CS', 'cgpa': 3.12},\n",
    "    {'id': 'DBU1602016', 'name':    'adis', 'dept': 'cs', 'cgpa': 3.61},\n",
    "    {'id': 'DBU1601888', 'name':  'abush',   'dept': 'CS', 'cgpa': 3.5},\n",
    "    {'id': 'DBU1601629', 'name':   'Nahom', 'dept': 'cs', 'cgpa': 3.00},\n",
    "    {'id': 'DBU1601721', 'name': 'yordanos', 'dept': 'cs', 'cgpa': 3.7},\n",
    "    {'id': 'DBU1601534', 'name':'Kalkidan', 'dept': 'CS', 'cgpa': 3.88},\n",
    "    {'id': 'DBU1601614', 'name':   'tsega', 'dept': 'cs', 'cgpa': 3.26},\n",
    "    {'id': 'DBU1601744', 'name':   'biruk', 'dept': 'cs', 'cgpa': 3.75},\n",
    "    {'id': 'DBU1601745', 'name':    'Eden', 'dept': 'cs', 'cgpa': 3.44}\n",
    "]\n",
    "students\n"
   ]
  },
  {
   "cell_type": "markdown",
   "id": "29da560c",
   "metadata": {},
   "source": [
    "## **Bubble sort by \"ID\"**"
   ]
  },
  {
   "cell_type": "code",
   "execution_count": 2,
   "id": "f76b197d",
   "metadata": {},
   "outputs": [
    {
     "data": {
      "text/plain": [
       "[{'id': 'DBU1601534', 'name': 'Kalkidan', 'dept': 'CS', 'cgpa': 3.88},\n",
       " {'id': 'DBU1601614', 'name': 'tsega', 'dept': 'cs', 'cgpa': 3.26},\n",
       " {'id': 'DBU1601628', 'name': 'solomon', 'dept': 'CS', 'cgpa': 3.12},\n",
       " {'id': 'DBU1601629', 'name': 'Nahom', 'dept': 'cs', 'cgpa': 3.0},\n",
       " {'id': 'DBU1601721', 'name': 'yordanos', 'dept': 'cs', 'cgpa': 3.7},\n",
       " {'id': 'DBU1601744', 'name': 'biruk', 'dept': 'cs', 'cgpa': 3.75},\n",
       " {'id': 'DBU1601745', 'name': 'Eden', 'dept': 'cs', 'cgpa': 3.44},\n",
       " {'id': 'DBU1601848', 'name': 'dawit', 'dept': 'cs', 'cgpa': 3.75},\n",
       " {'id': 'DBU1601888', 'name': 'abush', 'dept': 'CS', 'cgpa': 3.5},\n",
       " {'id': 'DBU1602016', 'name': 'adis', 'dept': 'cs', 'cgpa': 3.61}]"
      ]
     },
     "execution_count": 2,
     "metadata": {},
     "output_type": "execute_result"
    }
   ],
   "source": [
    "def bubble_sort_by_id(student_list):\n",
    "    n = len(student_list)\n",
    "    for i in range(n):\n",
    "        for j in range(0, n-i-1):\n",
    "            if student_list[j]['id'] > student_list[j+1]['id']:\n",
    "                student_list[j], student_list[j+1] = student_list[j+1], student_list[j]\n",
    "    return student_list\n",
    "\n",
    "bubble_sort_by_id(students.copy())\n"
   ]
  },
  {
   "cell_type": "markdown",
   "id": "80cd1d90",
   "metadata": {},
   "source": [
    "## **Insertion sort by \"NAME**\""
   ]
  },
  {
   "cell_type": "code",
   "execution_count": 3,
   "id": "1260678c",
   "metadata": {},
   "outputs": [
    {
     "data": {
      "text/plain": [
       "[{'id': 'DBU1601745', 'name': 'Eden', 'dept': 'cs', 'cgpa': 3.44},\n",
       " {'id': 'DBU1601534', 'name': 'Kalkidan', 'dept': 'CS', 'cgpa': 3.88},\n",
       " {'id': 'DBU1601629', 'name': 'Nahom', 'dept': 'cs', 'cgpa': 3.0},\n",
       " {'id': 'DBU1601888', 'name': 'abush', 'dept': 'CS', 'cgpa': 3.5},\n",
       " {'id': 'DBU1602016', 'name': 'adis', 'dept': 'cs', 'cgpa': 3.61},\n",
       " {'id': 'DBU1601744', 'name': 'biruk', 'dept': 'cs', 'cgpa': 3.75},\n",
       " {'id': 'DBU1601848', 'name': 'dawit', 'dept': 'cs', 'cgpa': 3.75},\n",
       " {'id': 'DBU1601628', 'name': 'solomon', 'dept': 'CS', 'cgpa': 3.12},\n",
       " {'id': 'DBU1601614', 'name': 'tsega', 'dept': 'cs', 'cgpa': 3.26},\n",
       " {'id': 'DBU1601721', 'name': 'yordanos', 'dept': 'cs', 'cgpa': 3.7}]"
      ]
     },
     "execution_count": 3,
     "metadata": {},
     "output_type": "execute_result"
    }
   ],
   "source": [
    "def insertion_sort_by_name(student_list):\n",
    "    for i in range(1, len(student_list)):\n",
    "        key = student_list[i]\n",
    "        j = i - 1\n",
    "        while j >= 0 and student_list[j]['name'] > key['name']:\n",
    "            student_list[j + 1] = student_list[j]\n",
    "            j -= 1\n",
    "        student_list[j + 1] = key\n",
    "    return student_list\n",
    "\n",
    "insertion_sort_by_name(students.copy())\n"
   ]
  },
  {
   "cell_type": "markdown",
   "id": "da3db59b",
   "metadata": {},
   "source": [
    "## **Selection sort by \"CGPA**\""
   ]
  },
  {
   "cell_type": "code",
   "execution_count": 4,
   "id": "940f8fa9",
   "metadata": {},
   "outputs": [
    {
     "data": {
      "text/plain": [
       "[{'id': 'DBU1601534', 'name': 'Kalkidan', 'dept': 'CS', 'cgpa': 3.88},\n",
       " {'id': 'DBU1601848', 'name': 'dawit', 'dept': 'cs', 'cgpa': 3.75},\n",
       " {'id': 'DBU1601744', 'name': 'biruk', 'dept': 'cs', 'cgpa': 3.75},\n",
       " {'id': 'DBU1601721', 'name': 'yordanos', 'dept': 'cs', 'cgpa': 3.7},\n",
       " {'id': 'DBU1602016', 'name': 'adis', 'dept': 'cs', 'cgpa': 3.61},\n",
       " {'id': 'DBU1601888', 'name': 'abush', 'dept': 'CS', 'cgpa': 3.5},\n",
       " {'id': 'DBU1601745', 'name': 'Eden', 'dept': 'cs', 'cgpa': 3.44},\n",
       " {'id': 'DBU1601614', 'name': 'tsega', 'dept': 'cs', 'cgpa': 3.26},\n",
       " {'id': 'DBU1601628', 'name': 'solomon', 'dept': 'CS', 'cgpa': 3.12},\n",
       " {'id': 'DBU1601629', 'name': 'Nahom', 'dept': 'cs', 'cgpa': 3.0}]"
      ]
     },
     "execution_count": 4,
     "metadata": {},
     "output_type": "execute_result"
    }
   ],
   "source": [
    "def selection_sort_by_cgpa_desc(student_list):\n",
    "    n = len(student_list)\n",
    "    for i in range(n):\n",
    "        max_idx = i\n",
    "        for j in range(i+1, n):\n",
    "            if student_list[j]['cgpa'] > student_list[max_idx]['cgpa']:\n",
    "                max_idx = j\n",
    "        student_list[i], student_list[max_idx] = student_list[max_idx], student_list[i]\n",
    "    return student_list\n",
    "\n",
    "selection_sort_by_cgpa_desc(students.copy())\n"
   ]
  },
  {
   "cell_type": "markdown",
   "id": "59e54165",
   "metadata": {},
   "source": [
    "\n",
    "## **Analysis of Sorting Algorithms**\n",
    "### **Bubble Sort:**\n",
    "\n",
    "Time Complexity: O(n²) in the worst and average case. The algorithm compares each element to the next and swaps them if they are in the wrong order. This makes it inefficient for larger lists.\n",
    "\n",
    "Space Complexity: O(1), as it sorts in place.\n",
    "\n",
    "**Advantages:** Simple to implement and understand, works well for small datasets.\n",
    "\n",
    "**Disadvantages:** Extremely inefficient for large datasets, making it impractical for large collections of data.\n",
    "\n",
    "### **Insertion Sort:**\n",
    "\n",
    "**Time Complexity:** O(n²) in the worst and average case, but O(n) in the best case (when the list is already sorted).\n",
    "\n",
    "**Space Complexity:** O(1), as it sorts in place.\n",
    "\n",
    "**Advantages:** Efficient for small datasets, adaptive (faster if the data is already sorted).\n",
    "\n",
    "**Disadvantages:** Like Bubble Sort, it becomes inefficient for large datasets as the complexity grows quadratically.\n",
    "\n",
    "## **Selection Sort:**\n",
    "\n",
    "**Time Complexity:** O(n²), as it repeatedly selects the minimum (or maximum) element from the unsorted part of the list.\n",
    "\n",
    "**Space Complexity:** O(1), sorts in place.\n",
    "\n",
    "**Advantages:** Simple to implement, does not require additional space.\n",
    "\n",
    "**Disadvantages:** Inefficient for large lists, and unlike other algorithms like Merge or Quick Sort, it is not adaptive to already partially sorted data.\n",
    "\n",
    "### **Conclusion:**\n",
    "  **Bubble Sort** is typically the slowest, especially for large datasets, due to its repeated comparisons and swaps.\n",
    "\n",
    " **Insertion Sort** is faster in practice when dealing with nearly sorted data, but still suffers from O(n²) complexity in the worst case.\n",
    "\n",
    " **Selection Sort** is better than Bubble Sort in terms of fewer swaps, but still has a poor performance for large datasets, making it not suitable for most practical applications involving large lists.\n",
    "\n"
   ]
  }
 ],
 "metadata": {
  "kernelspec": {
   "display_name": "Python 3",
   "language": "python",
   "name": "python3"
  },
  "language_info": {
   "codemirror_mode": {
    "name": "ipython",
    "version": 3
   },
   "file_extension": ".py",
   "mimetype": "text/x-python",
   "name": "python",
   "nbconvert_exporter": "python",
   "pygments_lexer": "ipython3",
   "version": "3.13.0"
  }
 },
 "nbformat": 4,
 "nbformat_minor": 5
}
